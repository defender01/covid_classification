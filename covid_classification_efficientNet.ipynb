{
  "nbformat": 4,
  "nbformat_minor": 0,
  "metadata": {
    "colab": {
      "name": "covid_classification_efficientNet.ipynb",
      "provenance": [],
      "collapsed_sections": [],
      "authorship_tag": "ABX9TyMq31Pu4/N4mk+XeS+P6n/6",
      "include_colab_link": true
    },
    "kernelspec": {
      "name": "python3",
      "display_name": "Python 3"
    },
    "accelerator": "GPU"
  },
  "cells": [
    {
      "cell_type": "markdown",
      "metadata": {
        "id": "view-in-github",
        "colab_type": "text"
      },
      "source": [
        "<a href=\"https://colab.research.google.com/github/defender01/covid_classification/blob/master/covid_classification_efficientNet.ipynb\" target=\"_parent\"><img src=\"https://colab.research.google.com/assets/colab-badge.svg\" alt=\"Open In Colab\"/></a>"
      ]
    },
    {
      "cell_type": "code",
      "metadata": {
        "id": "3ulTfbLlhVjo",
        "colab_type": "code",
        "colab": {
          "base_uri": "https://localhost:8080/",
          "height": 538
        },
        "outputId": "44c2ca49-4b2c-4d7d-b93d-1f6d765db8ff"
      },
      "source": [
        "from google.colab import drive\n",
        "drive.mount('/content/drive')"
      ],
      "execution_count": 1,
      "outputs": [
        {
          "output_type": "error",
          "ename": "TIMEOUT",
          "evalue": "ignored",
          "traceback": [
            "\u001b[0;31m---------------------------------------------------------------------------\u001b[0m",
            "\u001b[0;31mTIMEOUT\u001b[0m                                   Traceback (most recent call last)",
            "\u001b[0;32m<ipython-input-1-d5df0069828e>\u001b[0m in \u001b[0;36m<module>\u001b[0;34m()\u001b[0m\n\u001b[1;32m      1\u001b[0m \u001b[0;32mfrom\u001b[0m \u001b[0mgoogle\u001b[0m\u001b[0;34m.\u001b[0m\u001b[0mcolab\u001b[0m \u001b[0;32mimport\u001b[0m \u001b[0mdrive\u001b[0m\u001b[0;34m\u001b[0m\u001b[0;34m\u001b[0m\u001b[0m\n\u001b[0;32m----> 2\u001b[0;31m \u001b[0mdrive\u001b[0m\u001b[0;34m.\u001b[0m\u001b[0mmount\u001b[0m\u001b[0;34m(\u001b[0m\u001b[0;34m'/content/drive'\u001b[0m\u001b[0;34m)\u001b[0m\u001b[0;34m\u001b[0m\u001b[0;34m\u001b[0m\u001b[0m\n\u001b[0m",
            "\u001b[0;32m/usr/local/lib/python3.6/dist-packages/google/colab/drive.py\u001b[0m in \u001b[0;36mmount\u001b[0;34m(mountpoint, force_remount, timeout_ms, use_metadata_server)\u001b[0m\n\u001b[1;32m    223\u001b[0m         \u001b[0moauth_prompt\u001b[0m\u001b[0;34m,\u001b[0m\u001b[0;34m\u001b[0m\u001b[0;34m\u001b[0m\u001b[0m\n\u001b[1;32m    224\u001b[0m         \u001b[0mproblem_and_stopped\u001b[0m\u001b[0;34m,\u001b[0m\u001b[0;34m\u001b[0m\u001b[0;34m\u001b[0m\u001b[0m\n\u001b[0;32m--> 225\u001b[0;31m         \u001b[0mdrive_exited\u001b[0m\u001b[0;34m,\u001b[0m\u001b[0;34m\u001b[0m\u001b[0;34m\u001b[0m\u001b[0m\n\u001b[0m\u001b[1;32m    226\u001b[0m     ])\n\u001b[1;32m    227\u001b[0m     \u001b[0;32mif\u001b[0m \u001b[0mcase\u001b[0m \u001b[0;34m==\u001b[0m \u001b[0;36m0\u001b[0m\u001b[0;34m:\u001b[0m\u001b[0;34m\u001b[0m\u001b[0;34m\u001b[0m\u001b[0m\n",
            "\u001b[0;32m/usr/local/lib/python3.6/dist-packages/pexpect/spawnbase.py\u001b[0m in \u001b[0;36mexpect\u001b[0;34m(self, pattern, timeout, searchwindowsize, async_, **kw)\u001b[0m\n\u001b[1;32m    342\u001b[0m         \u001b[0mcompiled_pattern_list\u001b[0m \u001b[0;34m=\u001b[0m \u001b[0mself\u001b[0m\u001b[0;34m.\u001b[0m\u001b[0mcompile_pattern_list\u001b[0m\u001b[0;34m(\u001b[0m\u001b[0mpattern\u001b[0m\u001b[0;34m)\u001b[0m\u001b[0;34m\u001b[0m\u001b[0;34m\u001b[0m\u001b[0m\n\u001b[1;32m    343\u001b[0m         return self.expect_list(compiled_pattern_list,\n\u001b[0;32m--> 344\u001b[0;31m                 timeout, searchwindowsize, async_)\n\u001b[0m\u001b[1;32m    345\u001b[0m \u001b[0;34m\u001b[0m\u001b[0m\n\u001b[1;32m    346\u001b[0m     def expect_list(self, pattern_list, timeout=-1, searchwindowsize=-1,\n",
            "\u001b[0;32m/usr/local/lib/python3.6/dist-packages/pexpect/spawnbase.py\u001b[0m in \u001b[0;36mexpect_list\u001b[0;34m(self, pattern_list, timeout, searchwindowsize, async_, **kw)\u001b[0m\n\u001b[1;32m    370\u001b[0m             \u001b[0;32mreturn\u001b[0m \u001b[0mexpect_async\u001b[0m\u001b[0;34m(\u001b[0m\u001b[0mexp\u001b[0m\u001b[0;34m,\u001b[0m \u001b[0mtimeout\u001b[0m\u001b[0;34m)\u001b[0m\u001b[0;34m\u001b[0m\u001b[0;34m\u001b[0m\u001b[0m\n\u001b[1;32m    371\u001b[0m         \u001b[0;32melse\u001b[0m\u001b[0;34m:\u001b[0m\u001b[0;34m\u001b[0m\u001b[0;34m\u001b[0m\u001b[0m\n\u001b[0;32m--> 372\u001b[0;31m             \u001b[0;32mreturn\u001b[0m \u001b[0mexp\u001b[0m\u001b[0;34m.\u001b[0m\u001b[0mexpect_loop\u001b[0m\u001b[0;34m(\u001b[0m\u001b[0mtimeout\u001b[0m\u001b[0;34m)\u001b[0m\u001b[0;34m\u001b[0m\u001b[0;34m\u001b[0m\u001b[0m\n\u001b[0m\u001b[1;32m    373\u001b[0m \u001b[0;34m\u001b[0m\u001b[0m\n\u001b[1;32m    374\u001b[0m     def expect_exact(self, pattern_list, timeout=-1, searchwindowsize=-1,\n",
            "\u001b[0;32m/usr/local/lib/python3.6/dist-packages/pexpect/expect.py\u001b[0m in \u001b[0;36mexpect_loop\u001b[0;34m(self, timeout)\u001b[0m\n\u001b[1;32m    179\u001b[0m             \u001b[0;32mreturn\u001b[0m \u001b[0mself\u001b[0m\u001b[0;34m.\u001b[0m\u001b[0meof\u001b[0m\u001b[0;34m(\u001b[0m\u001b[0me\u001b[0m\u001b[0;34m)\u001b[0m\u001b[0;34m\u001b[0m\u001b[0;34m\u001b[0m\u001b[0m\n\u001b[1;32m    180\u001b[0m         \u001b[0;32mexcept\u001b[0m \u001b[0mTIMEOUT\u001b[0m \u001b[0;32mas\u001b[0m \u001b[0me\u001b[0m\u001b[0;34m:\u001b[0m\u001b[0;34m\u001b[0m\u001b[0;34m\u001b[0m\u001b[0m\n\u001b[0;32m--> 181\u001b[0;31m             \u001b[0;32mreturn\u001b[0m \u001b[0mself\u001b[0m\u001b[0;34m.\u001b[0m\u001b[0mtimeout\u001b[0m\u001b[0;34m(\u001b[0m\u001b[0me\u001b[0m\u001b[0;34m)\u001b[0m\u001b[0;34m\u001b[0m\u001b[0;34m\u001b[0m\u001b[0m\n\u001b[0m\u001b[1;32m    182\u001b[0m         \u001b[0;32mexcept\u001b[0m\u001b[0;34m:\u001b[0m\u001b[0;34m\u001b[0m\u001b[0;34m\u001b[0m\u001b[0m\n\u001b[1;32m    183\u001b[0m             \u001b[0mself\u001b[0m\u001b[0;34m.\u001b[0m\u001b[0merrored\u001b[0m\u001b[0;34m(\u001b[0m\u001b[0;34m)\u001b[0m\u001b[0;34m\u001b[0m\u001b[0;34m\u001b[0m\u001b[0m\n",
            "\u001b[0;32m/usr/local/lib/python3.6/dist-packages/pexpect/expect.py\u001b[0m in \u001b[0;36mtimeout\u001b[0;34m(self, err)\u001b[0m\n\u001b[1;32m    142\u001b[0m             \u001b[0mexc\u001b[0m \u001b[0;34m=\u001b[0m \u001b[0mTIMEOUT\u001b[0m\u001b[0;34m(\u001b[0m\u001b[0mmsg\u001b[0m\u001b[0;34m)\u001b[0m\u001b[0;34m\u001b[0m\u001b[0;34m\u001b[0m\u001b[0m\n\u001b[1;32m    143\u001b[0m             \u001b[0mexc\u001b[0m\u001b[0;34m.\u001b[0m\u001b[0m__cause__\u001b[0m \u001b[0;34m=\u001b[0m \u001b[0;32mNone\u001b[0m    \u001b[0;31m# in Python 3.x we can use \"raise exc from None\"\u001b[0m\u001b[0;34m\u001b[0m\u001b[0;34m\u001b[0m\u001b[0m\n\u001b[0;32m--> 144\u001b[0;31m             \u001b[0;32mraise\u001b[0m \u001b[0mexc\u001b[0m\u001b[0;34m\u001b[0m\u001b[0;34m\u001b[0m\u001b[0m\n\u001b[0m\u001b[1;32m    145\u001b[0m \u001b[0;34m\u001b[0m\u001b[0m\n\u001b[1;32m    146\u001b[0m     \u001b[0;32mdef\u001b[0m \u001b[0merrored\u001b[0m\u001b[0;34m(\u001b[0m\u001b[0mself\u001b[0m\u001b[0;34m)\u001b[0m\u001b[0;34m:\u001b[0m\u001b[0;34m\u001b[0m\u001b[0;34m\u001b[0m\u001b[0m\n",
            "\u001b[0;31mTIMEOUT\u001b[0m: <pexpect.popen_spawn.PopenSpawn object at 0x7fdf3c2d4c18>\nsearcher: searcher_re:\n    0: re.compile('google.colab.drive MOUNTED')\n    1: re.compile('root@22012280a34d-d7508db47423422f84aa43f386403ad6: ')\n    2: re.compile('(Go to this URL in a browser: https://.*)$')\n    3: re.compile('Drive File Stream encountered a problem and has stopped')\n    4: re.compile('drive EXITED')\n<pexpect.popen_spawn.PopenSpawn object at 0x7fdf3c2d4c18>\nsearcher: searcher_re:\n    0: re.compile('google.colab.drive MOUNTED')\n    1: re.compile('root@22012280a34d-d7508db47423422f84aa43f386403ad6: ')\n    2: re.compile('(Go to this URL in a browser: https://.*)$')\n    3: re.compile('Drive File Stream encountered a problem and has stopped')\n    4: re.compile('drive EXITED')"
          ]
        }
      ]
    },
    {
      "cell_type": "code",
      "metadata": {
        "id": "rsL0SyMvqKDK",
        "colab_type": "code",
        "colab": {}
      },
      "source": [
        "!pip install livelossplot\n",
        "!pip install -q pyyaml h5py"
      ],
      "execution_count": null,
      "outputs": []
    },
    {
      "cell_type": "code",
      "metadata": {
        "id": "QzwNSbwPu5AS",
        "colab_type": "code",
        "colab": {}
      },
      "source": [
        "import tensorflow as tf\n",
        "import math\n",
        "from os import listdir\n",
        "from os.path import isfile, join\n",
        "import numpy as np # linear algebra\n",
        "import pandas as pd # data processing, CSV file I/O (e.g. pd.read_csv)\n",
        "import cv2\n",
        "import PIL\n",
        "from IPython.display import Image, display\n",
        "from keras.applications.vgg16 import VGG16,preprocess_input\n",
        "# Plotly for the interactive viewer (see last section)\n",
        "import plotly.graph_objs as go\n",
        "import plotly.graph_objects as go\n",
        "from sklearn.metrics import cohen_kappa_score, accuracy_score\n",
        "from sklearn.model_selection import train_test_split\n",
        "from keras.models import Sequential, Model,load_model\n",
        "from keras.applications.vgg16 import VGG16,preprocess_input\n",
        "from keras.applications.resnet50 import ResNet50\n",
        "from keras.preprocessing.image import ImageDataGenerator,load_img, img_to_array\n",
        "from keras.models import Sequential\n",
        "from keras.layers import Conv2D, MaxPooling2D, Dense, Dropout, Input, Flatten,BatchNormalization,Activation\n",
        "from keras.layers import GlobalMaxPooling2D\n",
        "from keras.models import Model\n",
        "from keras.optimizers import Adam, SGD, RMSprop\n",
        "from keras.callbacks import ModelCheckpoint, Callback, EarlyStopping\n",
        "from keras.utils import to_categorical\n",
        "from tensorflow.keras.preprocessing.image import ImageDataGenerator\n",
        "import gc\n",
        "import skimage.io\n",
        "import tensorflow as tf\n",
        "import matplotlib.pyplot as plt\n",
        "from tensorflow.python.keras import backend as K\n",
        "from livelossplot import PlotLossesKeras"
      ],
      "execution_count": null,
      "outputs": []
    },
    {
      "cell_type": "code",
      "metadata": {
        "id": "1M0C8-sXApUT",
        "colab_type": "code",
        "colab": {}
      },
      "source": [
        "# path = \"/content/drive/My Drive/covit_dataSet/548681_1157383_bundle_archive\"\n",
        "path = \"/content/drive/My Drive/covit_dataSet/COVID-19 Image Detection-20200813T052115Z-001/COVID-19 Image Detection\"\n",
        "# path = \"/content/drive/My Drive/covit_dataSet/covid-chestxray-dataset-master/covid-chestxray-dataset-master\"\n",
        "# df = pd.read_csv(path+'/metadata.csv')\n"
      ],
      "execution_count": null,
      "outputs": []
    },
    {
      "cell_type": "code",
      "metadata": {
        "id": "w9ldwy3byGM2",
        "colab_type": "code",
        "colab": {}
      },
      "source": [
        "# for 2nd dataset\n",
        "paths = [\"/content/drive/My Drive/covit_dataSet/COVID-19 Image Detection-20200813T052115Z-001/COVID-19 Image Detection/COVID-19\",\n",
        "         \"/content/drive/My Drive/covit_dataSet/COVID-19 Image Detection-20200813T052115Z-001/COVID-19 Image Detection/No_findings\",\n",
        "         \"/content/drive/My Drive/covit_dataSet/COVID-19 Image Detection-20200813T052115Z-001/COVID-19 Image Detection/Pneumonia\"]\n",
        "\n",
        "files = []\n",
        "for i in range(len(paths)):\n",
        "  files.append([join(paths[i], f) for f in listdir(paths[i]) if isfile(join(paths[i], f))])"
      ],
      "execution_count": null,
      "outputs": []
    },
    {
      "cell_type": "code",
      "metadata": {
        "id": "FQFYgtAnRkTo",
        "colab_type": "code",
        "colab": {}
      },
      "source": [
        "print(files[0][0])"
      ],
      "execution_count": null,
      "outputs": []
    },
    {
      "cell_type": "code",
      "metadata": {
        "id": "CLG_hV24Afzn",
        "colab_type": "code",
        "colab": {}
      },
      "source": [
        "# label 0 for COVID-19, 1 for No_findings, 2 for Pneumonia\n",
        "dfs = []\n",
        "for i in range(len(files)):\n",
        "  print(len(files[i]))\n",
        "  labels = [i for j in range(len(files[i]))]\n",
        "  # print(labels)\n",
        "  dict ={\n",
        "      'filename': files[i],\n",
        "      'label': labels\n",
        "  }\n",
        "  \n",
        "  df = pd.DataFrame(dict)\n",
        "  dfs.append(df)"
      ],
      "execution_count": null,
      "outputs": []
    },
    {
      "cell_type": "code",
      "metadata": {
        "id": "C14SHVgLJlPH",
        "colab_type": "code",
        "colab": {}
      },
      "source": [
        "dfs[0].head()"
      ],
      "execution_count": null,
      "outputs": []
    },
    {
      "cell_type": "code",
      "metadata": {
        "id": "FXgIZMKER4F7",
        "colab_type": "code",
        "colab": {}
      },
      "source": [
        "# # creating train dataframe\n",
        "# train_df = pd.concat( [ \n",
        "#                        dfs[0].iloc[: (len(dfs[0])*80)//100],\n",
        "#                        dfs[1].iloc[: (len(dfs[1])*80)//100],\n",
        "#                        dfs[2].iloc[: (len(dfs[2])*80)//100] ], ignore_index=True)\n",
        "# print(train_df.info())\n",
        "# train_df.head()\n"
      ],
      "execution_count": null,
      "outputs": []
    },
    {
      "cell_type": "code",
      "metadata": {
        "id": "x1rERKVBT7OV",
        "colab_type": "code",
        "colab": {}
      },
      "source": [
        "# # creating test dataframe\n",
        "# test_df = pd.concat( [ \n",
        "#                        dfs[0].iloc[(len(dfs[0])*80)//100 : ],\n",
        "#                        dfs[1].iloc[(len(dfs[1])*80)//100 : ],\n",
        "#                        dfs[2].iloc[(len(dfs[2])*80)//100 : ] ], ignore_index=True)\n",
        "# print(test_df.info())\n",
        "# test_df.head()"
      ],
      "execution_count": null,
      "outputs": []
    },
    {
      "cell_type": "code",
      "metadata": {
        "id": "o0YiNpG7gh8T",
        "colab_type": "code",
        "colab": {}
      },
      "source": [
        "df_collection = pd.concat( [ \n",
        "                       dfs[0].iloc[:],\n",
        "                       dfs[1].iloc[:],\n",
        "                       dfs[2].iloc[:] ], ignore_index=True)\n",
        "print(df_collection.info())\n",
        "df_collection.head()"
      ],
      "execution_count": null,
      "outputs": []
    },
    {
      "cell_type": "markdown",
      "metadata": {
        "id": "Lt49RJsgUGmV",
        "colab_type": "text"
      },
      "source": [
        " **lets look at some x-rays**"
      ]
    },
    {
      "cell_type": "code",
      "metadata": {
        "id": "Jp7m1lE7TSxM",
        "colab_type": "code",
        "colab": {}
      },
      "source": [
        "print('covid Cases')\n",
        "covidCase=[]\n",
        "df=dfs[0].sample(10)\n",
        "df=df.reset_index()\n",
        "for i in range(10):\n",
        "    img=cv2.imread(df['filename'].iloc[i])\n",
        "    # print(img.shape)\n",
        "    img = cv2.resize(img, (224,224),)\n",
        "    img = cv2.cvtColor(img, cv2.COLOR_BGR2RGB)\n",
        "    img = img.astype(np.float32)/255.\n",
        "    covidCase.append(img)\n",
        "f, ax = plt.subplots(2,5, figsize=(10,8))\n",
        "for i, img in enumerate(covidCase):\n",
        "        ax[i//5, i%5].imshow(img)\n",
        "        ax[i//5, i%5].axis('off')\n",
        "        \n",
        "plt.show()"
      ],
      "execution_count": null,
      "outputs": []
    },
    {
      "cell_type": "code",
      "metadata": {
        "id": "44QfzKlcVKbj",
        "colab_type": "code",
        "colab": {}
      },
      "source": [
        "print('No_finding Cases')\n",
        "covidCase=[]\n",
        "df=dfs[1].sample(10)\n",
        "df=df.reset_index()\n",
        "for i in range(10):\n",
        "    img=cv2.imread(df['filename'].iloc[i])\n",
        "    # print(img.shape)\n",
        "    img = cv2.resize(img, (224,224),)\n",
        "    img = cv2.cvtColor(img, cv2.COLOR_BGR2RGB)\n",
        "    img = img.astype(np.float32)/255.\n",
        "    covidCase.append(img)\n",
        "f, ax = plt.subplots(2,5, figsize=(10,8))\n",
        "for i, img in enumerate(covidCase):\n",
        "        ax[i//5, i%5].imshow(img)\n",
        "        ax[i//5, i%5].axis('off')\n",
        "        \n",
        "plt.show()"
      ],
      "execution_count": null,
      "outputs": []
    },
    {
      "cell_type": "code",
      "metadata": {
        "id": "pp6b8_CwVmUM",
        "colab_type": "code",
        "colab": {}
      },
      "source": [
        "print('Pneumonia Cases')\n",
        "covidCase=[]\n",
        "df=dfs[2].sample(10)\n",
        "df=df.reset_index()\n",
        "for i in range(10):\n",
        "    img=cv2.imread(df['filename'].iloc[i])\n",
        "    # print(img.shape)\n",
        "    img = cv2.resize(img, (224,224),)\n",
        "    img = cv2.cvtColor(img, cv2.COLOR_BGR2RGB)\n",
        "    img = img.astype(np.float32)/255.\n",
        "    covidCase.append(img)\n",
        "f, ax = plt.subplots(2,5, figsize=(10,8))\n",
        "for i, img in enumerate(covidCase):\n",
        "        ax[i//5, i%5].imshow(img)\n",
        "        ax[i//5, i%5].axis('off')\n",
        "        \n",
        "plt.show()"
      ],
      "execution_count": null,
      "outputs": []
    },
    {
      "cell_type": "markdown",
      "metadata": {
        "id": "0lGG-vg2gw6k",
        "colab_type": "text"
      },
      "source": [
        "# Preparing Datasets"
      ]
    },
    {
      "cell_type": "markdown",
      "metadata": {
        "id": "FqOqIP0bmXmL",
        "colab_type": "text"
      },
      "source": [
        "**creating train and validation set**"
      ]
    },
    {
      "cell_type": "code",
      "metadata": {
        "id": "sVDCBci9g1iI",
        "colab_type": "code",
        "colab": {}
      },
      "source": [
        "X_train, X_val, y_train, y_val = train_test_split(df_collection['filename'],df_collection['label'], test_size=0.2, random_state=1234)\n",
        "\n",
        "train=pd.DataFrame(X_train)\n",
        "train.columns=['images']\n",
        "train['target']=y_train\n",
        "\n",
        "validation=pd.DataFrame(X_val)\n",
        "validation.columns=['images']\n",
        "validation['target']=y_val"
      ],
      "execution_count": null,
      "outputs": []
    },
    {
      "cell_type": "markdown",
      "metadata": {
        "id": "fpApHvOlmfhE",
        "colab_type": "text"
      },
      "source": [
        "**Applying some basic preprocessing**\n",
        "\n",
        "\n",
        "*   normalization\n",
        "*   reshaping\n",
        "*   augmentation(only on train data)\n",
        "\n",
        "\n",
        "\n"
      ]
    },
    {
      "cell_type": "code",
      "metadata": {
        "id": "hWoEn3rqmx07",
        "colab_type": "code",
        "colab": {}
      },
      "source": [
        "train_datagen = ImageDataGenerator(\n",
        "    rescale=1./255,\n",
        "    shear_range= 0.2,\n",
        "    rotation_range=40,\n",
        "    zoom_range=0.2,\n",
        "    width_shift_range=0.2,\n",
        "    height_shift_range=0.2,\n",
        "    horizontal_flip=True,\n",
        "    fill_mode= 'nearest'\n",
        "    )\n",
        "val_datagen=ImageDataGenerator(rescale=1./255)\n",
        "train_generator = train_datagen.flow_from_dataframe(\n",
        "    train,\n",
        "    x_col='images',\n",
        "    y_col='target',\n",
        "    target_size=(224, 224),\n",
        "    batch_size=8,\n",
        "    shuffle=True,\n",
        "    class_mode='raw')\n",
        "\n",
        "validation_generator = val_datagen.flow_from_dataframe(\n",
        "    validation,\n",
        "    x_col='images',\n",
        "    y_col='target',\n",
        "    target_size=(224, 224),\n",
        "    shuffle=False,\n",
        "    batch_size=8,\n",
        "    class_mode='raw')\n",
        "\n"
      ],
      "execution_count": null,
      "outputs": []
    },
    {
      "cell_type": "markdown",
      "metadata": {
        "id": "vSqh9wNInheu",
        "colab_type": "text"
      },
      "source": [
        "# Creating Model"
      ]
    },
    {
      "cell_type": "code",
      "metadata": {
        "id": "FznqB6souazL",
        "colab_type": "code",
        "colab": {}
      },
      "source": [
        "def create_model():\n",
        "  base_model = tf.keras.applications.EfficientNetB4(include_top=False, weights='imagenet',input_shape=(224, 224,3))\n",
        "  base_model.trainable= False\n",
        "  x= Flatten()(x)\n",
        "  x = Dense(4096, activation='relu')(x)\n",
        "  x = Dropout(.3)(x)\n",
        "  x = Dense(1024, activation='relu')(x)\n",
        "  x = Dropout(.1)(x)\n",
        "  x = Dense(512, activation='relu')(x)\n",
        "  x = Dropout(.1)(x)\n",
        "  x = Dense(128, activation='relu')(x)\n",
        "  x = Dropout(.05)(x)\n",
        "  x = Dense(64, activation='relu')(x)\n",
        "  x = Dense(32, activation='relu')(x)\n",
        "  x = Dense(16, activation='relu')(x)\n",
        "  output=Dense(3,activation='softmax')(x) # because we have to predict the AUC\n",
        "  model=Model(base_model.input,output)\n",
        "  \n",
        "  return model\n",
        "\n",
        "model = create_model()\n",
        "model.summary()"
      ],
      "execution_count": null,
      "outputs": []
    },
    {
      "cell_type": "code",
      "metadata": {
        "id": "KikNqDij_UiT",
        "colab_type": "code",
        "colab": {}
      },
      "source": [
        "model.compile(optimizer= Adam(1e-5), loss='sparse_categorical_crossentropy', metrics=['accuracy'])"
      ],
      "execution_count": null,
      "outputs": []
    },
    {
      "cell_type": "markdown",
      "metadata": {
        "id": "-FzETZlrqyE4",
        "colab_type": "text"
      },
      "source": [
        "initializing number of => epochs, batch_size, train_steps, val_steps"
      ]
    },
    {
      "cell_type": "code",
      "metadata": {
        "id": "3fHXjaTGqg4z",
        "colab_type": "code",
        "colab": {}
      },
      "source": [
        "no_epochs = 60\n",
        "batch_size=8\n",
        "train_steps = train.shape[0]//batch_size\n",
        "val_steps=validation.shape[0]//batch_size\n",
        "print(\"Number of training and validation steps: {} and {}\".format(train_steps,val_steps))"
      ],
      "execution_count": null,
      "outputs": []
    },
    {
      "cell_type": "code",
      "metadata": {
        "id": "WV5RNmP9qCFM",
        "colab_type": "code",
        "colab": {
          "base_uri": "https://localhost:8080/",
          "height": 736
        },
        "outputId": "f8abe422-4587-4b34-9fa9-bbf408750782"
      },
      "source": [
        "cb=[PlotLossesKeras()]\n",
        "model.fit(\n",
        "    train_generator,\n",
        "    steps_per_epoch=train_steps,\n",
        "    epochs= no_epochs,\n",
        "    verbose =1,\n",
        "    validation_data=validation_generator,\n",
        "    callbacks=cb,\n",
        "    validation_steps=val_steps)"
      ],
      "execution_count": null,
      "outputs": [
        {
          "output_type": "display_data",
          "data": {
            "image/png": "[encoded data removed]",
            "text/plain": [
              "<Figure size 864x576 with 2 Axes>"
            ]
          },
          "metadata": {
            "tags": [],
            "needs_background": "light"
          }
        },
        {
          "output_type": "stream",
          "text": [
            "accuracy\n",
            "\ttraining         \t (min:    0.356, max:    0.762, cur:    0.750)\n",
            "\tvalidation       \t (min:    0.311, max:    0.811, cur:    0.811)\n",
            "Loss\n",
            "\ttraining         \t (min:    0.568, max:    1.094, cur:    0.577)\n",
            "\tvalidation       \t (min:    0.496, max:    1.098, cur:    0.496)\n",
            "\b\b\b\b\b\b\b\b\b\b\b\b\b\b\b\b\b\b\b\b\b\b\b\b\b\b\b\b\b\b\b\b\b\b\b\b\b\b\b\b\b\b\b\b\b\b\b\b\b\b\b\b\b\b\b\b\b\b\b\b\b\b\b\b\b\b\b\b\b\b\b\b\b\b\b\b\b\b\b\b\b\b\b\b\r141/141 [==============================] - 51s 360ms/step - loss: 0.5773 - accuracy: 0.7500 - val_loss: 0.4965 - val_accuracy: 0.8107\n",
            "Epoch 39/60\n",
            "124/141 [=========================>....] - ETA: 5s - loss: 0.5942 - accuracy: 0.7510"
          ],
          "name": "stdout"
        }
      ]
    },
    {
      "cell_type": "code",
      "metadata": {
        "id": "okThp3g9pd-G",
        "colab_type": "code",
        "colab": {}
      },
      "source": [
        " model.save('my_model.h5')"
      ],
      "execution_count": null,
      "outputs": []
    },
    {
      "cell_type": "code",
      "metadata": {
        "id": "PkrPE8IFmcld",
        "colab_type": "code",
        "colab": {}
      },
      "source": [
        ""
      ],
      "execution_count": null,
      "outputs": []
    }
  ]
}